{
 "cells": [
  {
   "cell_type": "code",
   "execution_count": 1,
   "id": "3c0e58aa",
   "metadata": {},
   "outputs": [
    {
     "data": {
      "text/html": [
       "<div>\n",
       "<style scoped>\n",
       "    .dataframe tbody tr th:only-of-type {\n",
       "        vertical-align: middle;\n",
       "    }\n",
       "\n",
       "    .dataframe tbody tr th {\n",
       "        vertical-align: top;\n",
       "    }\n",
       "\n",
       "    .dataframe thead th {\n",
       "        text-align: right;\n",
       "    }\n",
       "</style>\n",
       "<table border=\"1\" class=\"dataframe\">\n",
       "  <thead>\n",
       "    <tr style=\"text-align: right;\">\n",
       "      <th></th>\n",
       "      <th>userId</th>\n",
       "      <th>movieId</th>\n",
       "      <th>rating</th>\n",
       "      <th>timestamp</th>\n",
       "    </tr>\n",
       "  </thead>\n",
       "  <tbody>\n",
       "    <tr>\n",
       "      <th>0</th>\n",
       "      <td>1</td>\n",
       "      <td>1</td>\n",
       "      <td>4.0</td>\n",
       "      <td>964982703</td>\n",
       "    </tr>\n",
       "    <tr>\n",
       "      <th>1</th>\n",
       "      <td>1</td>\n",
       "      <td>3</td>\n",
       "      <td>4.0</td>\n",
       "      <td>964981247</td>\n",
       "    </tr>\n",
       "    <tr>\n",
       "      <th>2</th>\n",
       "      <td>1</td>\n",
       "      <td>6</td>\n",
       "      <td>4.0</td>\n",
       "      <td>964982224</td>\n",
       "    </tr>\n",
       "    <tr>\n",
       "      <th>3</th>\n",
       "      <td>1</td>\n",
       "      <td>47</td>\n",
       "      <td>5.0</td>\n",
       "      <td>964983815</td>\n",
       "    </tr>\n",
       "    <tr>\n",
       "      <th>4</th>\n",
       "      <td>1</td>\n",
       "      <td>50</td>\n",
       "      <td>5.0</td>\n",
       "      <td>964982931</td>\n",
       "    </tr>\n",
       "    <tr>\n",
       "      <th>5</th>\n",
       "      <td>1</td>\n",
       "      <td>70</td>\n",
       "      <td>3.0</td>\n",
       "      <td>964982400</td>\n",
       "    </tr>\n",
       "    <tr>\n",
       "      <th>6</th>\n",
       "      <td>1</td>\n",
       "      <td>101</td>\n",
       "      <td>5.0</td>\n",
       "      <td>964980868</td>\n",
       "    </tr>\n",
       "    <tr>\n",
       "      <th>7</th>\n",
       "      <td>1</td>\n",
       "      <td>110</td>\n",
       "      <td>4.0</td>\n",
       "      <td>964982176</td>\n",
       "    </tr>\n",
       "    <tr>\n",
       "      <th>8</th>\n",
       "      <td>1</td>\n",
       "      <td>151</td>\n",
       "      <td>5.0</td>\n",
       "      <td>964984041</td>\n",
       "    </tr>\n",
       "    <tr>\n",
       "      <th>9</th>\n",
       "      <td>1</td>\n",
       "      <td>157</td>\n",
       "      <td>5.0</td>\n",
       "      <td>964984100</td>\n",
       "    </tr>\n",
       "  </tbody>\n",
       "</table>\n",
       "</div>"
      ],
      "text/plain": [
       "   userId  movieId  rating  timestamp\n",
       "0       1        1     4.0  964982703\n",
       "1       1        3     4.0  964981247\n",
       "2       1        6     4.0  964982224\n",
       "3       1       47     5.0  964983815\n",
       "4       1       50     5.0  964982931\n",
       "5       1       70     3.0  964982400\n",
       "6       1      101     5.0  964980868\n",
       "7       1      110     4.0  964982176\n",
       "8       1      151     5.0  964984041\n",
       "9       1      157     5.0  964984100"
      ]
     },
     "execution_count": 1,
     "metadata": {},
     "output_type": "execute_result"
    }
   ],
   "source": [
    "import pandas as pd\n",
    "\n",
    "data = pd.read_csv(r\"C:\\Users\\Sai Pranav\\ml-latest-small (1)\\ml-latest-small\\ratings.csv\")\n",
    "\n",
    "data.head(10)\n"
   ]
  },
  {
   "cell_type": "code",
   "execution_count": 2,
   "id": "ccfe545b",
   "metadata": {},
   "outputs": [
    {
     "name": "stdout",
     "output_type": "stream",
     "text": [
      "4.0    26818\n",
      "3.0    20047\n",
      "5.0    13211\n",
      "3.5    13136\n",
      "4.5     8551\n",
      "2.0     7551\n",
      "2.5     5550\n",
      "1.0     2811\n",
      "1.5     1791\n",
      "0.5     1370\n",
      "Name: rating, dtype: int64\n"
     ]
    }
   ],
   "source": [
    "\n",
    "value_counts = data['rating'].value_counts()\n",
    "\n",
    "print(value_counts)\n"
   ]
  },
  {
   "cell_type": "code",
   "execution_count": 3,
   "id": "f9ddcad4",
   "metadata": {},
   "outputs": [
    {
     "name": "stdout",
     "output_type": "stream",
     "text": [
      "356       329\n",
      "318       317\n",
      "296       307\n",
      "593       279\n",
      "2571      278\n",
      "         ... \n",
      "86279       1\n",
      "86922       1\n",
      "5962        1\n",
      "87660       1\n",
      "163981      1\n",
      "Name: movieId, Length: 9724, dtype: int64\n"
     ]
    }
   ],
   "source": [
    "value_counts = data['movieId'].value_counts()\n",
    "\n",
    "print(value_counts)"
   ]
  },
  {
   "cell_type": "code",
   "execution_count": 4,
   "id": "b3f7aa74",
   "metadata": {},
   "outputs": [
    {
     "name": "stdout",
     "output_type": "stream",
     "text": [
      "        userId  movieId  rating   timestamp\n",
      "0            1        1     4.0   964982703\n",
      "1            1        3     4.0   964981247\n",
      "2            1        6     4.0   964982224\n",
      "3            1       47     5.0   964983815\n",
      "4            1       50     5.0   964982931\n",
      "...        ...      ...     ...         ...\n",
      "100820     610   160341     2.5  1479545749\n",
      "100821     610   160527     4.5  1479544998\n",
      "100823     610   160836     3.0  1493844794\n",
      "100827     610   163937     3.5  1493848789\n",
      "100828     610   163981     3.5  1493850155\n",
      "\n",
      "[9724 rows x 4 columns]\n"
     ]
    }
   ],
   "source": [
    "data_unique = data.drop_duplicates(subset=['movieId'])\n",
    "\n",
    "print(data_unique)\n",
    "# removing the rows of the movieId which have duplicates "
   ]
  },
  {
   "cell_type": "code",
   "execution_count": 5,
   "id": "993820b4",
   "metadata": {},
   "outputs": [
    {
     "name": "stdout",
     "output_type": "stream",
     "text": [
      "       userId  movieId  rating   timestamp\n",
      "0           1        1     4.0   964982703\n",
      "560         6        2     4.0   845553522\n",
      "1           1        3     4.0   964981247\n",
      "562         6        4     3.0   845554349\n",
      "563         6        5     5.0   845553938\n",
      "...       ...      ...     ...         ...\n",
      "27256     184   193581     4.0  1537109082\n",
      "27257     184   193583     3.5  1537109545\n",
      "27258     184   193585     3.5  1537109805\n",
      "27259     184   193587     3.5  1537110021\n",
      "51362     331   193609     4.0  1537157606\n",
      "\n",
      "[9724 rows x 4 columns]\n"
     ]
    }
   ],
   "source": [
    "data_sorted = data_unique.sort_values(by='movieId', ascending=True)\n",
    "\n",
    "print(data_sorted)#sorting the movieId in ascending order"
   ]
  },
  {
   "cell_type": "code",
   "execution_count": 6,
   "id": "a8b79046",
   "metadata": {},
   "outputs": [
    {
     "name": "stdout",
     "output_type": "stream",
     "text": [
      "       userId  movieId  rating\n",
      "0           1        1     4.0\n",
      "560         6        2     4.0\n",
      "1           1        3     4.0\n",
      "562         6        4     3.0\n",
      "563         6        5     5.0\n",
      "...       ...      ...     ...\n",
      "27256     184   193581     4.0\n",
      "27257     184   193583     3.5\n",
      "27258     184   193585     3.5\n",
      "27259     184   193587     3.5\n",
      "51362     331   193609     4.0\n",
      "\n",
      "[9724 rows x 3 columns]\n"
     ]
    }
   ],
   "source": [
    "data_without_column = data_sorted.drop(columns=['timestamp'])\n",
    "\n",
    "print(data_without_column)#dropping the column of timestamp"
   ]
  },
  {
   "cell_type": "code",
   "execution_count": 7,
   "id": "dcf55b77",
   "metadata": {},
   "outputs": [],
   "source": [
    "\n",
    "data = pd.read_csv(r\"C:\\Users\\Sai Pranav\\ml-latest-small (1)\\ml-latest-small\\tags.csv\")"
   ]
  },
  {
   "cell_type": "code",
   "execution_count": 8,
   "id": "5dad0386",
   "metadata": {},
   "outputs": [
    {
     "name": "stdout",
     "output_type": "stream",
     "text": [
      "      movieId               tag\n",
      "0       60756             funny\n",
      "1       60756   Highly quotable\n",
      "2       60756      will ferrell\n",
      "3       89774      Boxing story\n",
      "4       89774               MMA\n",
      "...       ...               ...\n",
      "3678     7382         for katie\n",
      "3679     7936           austere\n",
      "3680     3265            gun fu\n",
      "3681     3265  heroic bloodshed\n",
      "3682   168248  Heroic Bloodshed\n",
      "\n",
      "[3683 rows x 2 columns]\n"
     ]
    }
   ],
   "source": [
    "columns_to_drop = ['userId','timestamp']\n",
    "data_dropped = data.drop(columns=columns_to_drop)\n",
    "\n",
    "print(data_dropped)"
   ]
  },
  {
   "cell_type": "code",
   "execution_count": 9,
   "id": "97f6821f",
   "metadata": {},
   "outputs": [
    {
     "name": "stdout",
     "output_type": "stream",
     "text": [
      "      movieId                                                tag\n",
      "0           1                                  pixar, pixar, fun\n",
      "1           2    fantasy, magic board game, Robin Williams, game\n",
      "2           3                                         moldy, old\n",
      "3           5                                  pregnancy, remake\n",
      "4           7                                             remake\n",
      "...       ...                                                ...\n",
      "1567   183611                      Comedy, funny, Rachel McAdams\n",
      "1568   184471  adventure, Alicia Vikander, video game adaptation\n",
      "1569   187593                Josh Brolin, Ryan Reynolds, sarcasm\n",
      "1570   187595                           Emilia Clarke, star wars\n",
      "1571   193565                   anime, comedy, gintama, remaster\n",
      "\n",
      "[1572 rows x 2 columns]\n"
     ]
    }
   ],
   "source": [
    "data_combined_tags = data_dropped.groupby('movieId')['tag'].apply(lambda x: ', '.join(x)).reset_index()\n",
    "\n",
    "print(data_combined_tags)#combining tags of rows which have same movieid"
   ]
  },
  {
   "cell_type": "code",
   "execution_count": 10,
   "id": "10c491ac",
   "metadata": {
    "scrolled": true
   },
   "outputs": [
    {
     "name": "stdout",
     "output_type": "stream",
     "text": [
      "      movieId                                                tag\n",
      "0           1                                  pixar, pixar, fun\n",
      "1           2    fantasy, magic board game, Robin Williams, game\n",
      "2           3                                         moldy, old\n",
      "3           5                                  pregnancy, remake\n",
      "4           7                                             remake\n",
      "...       ...                                                ...\n",
      "1567   183611                      Comedy, funny, Rachel McAdams\n",
      "1568   184471  adventure, Alicia Vikander, video game adaptation\n",
      "1569   187593                Josh Brolin, Ryan Reynolds, sarcasm\n",
      "1570   187595                           Emilia Clarke, star wars\n",
      "1571   193565                   anime, comedy, gintama, remaster\n",
      "\n",
      "[1572 rows x 2 columns]\n"
     ]
    }
   ],
   "source": [
    "data_sorted = data_combined_tags.sort_values(by='movieId', ascending=True)\n",
    "\n",
    "print(data_sorted)#sorting movieid in ascending order"
   ]
  },
  {
   "cell_type": "code",
   "execution_count": 11,
   "id": "baa22a62",
   "metadata": {},
   "outputs": [
    {
     "name": "stdout",
     "output_type": "stream",
     "text": [
      "      movieId                                      title  \\\n",
      "0           1                           Toy Story (1995)   \n",
      "1           2                             Jumanji (1995)   \n",
      "2           3                    Grumpier Old Men (1995)   \n",
      "3           4                   Waiting to Exhale (1995)   \n",
      "4           5         Father of the Bride Part II (1995)   \n",
      "...       ...                                        ...   \n",
      "9737   193581  Black Butler: Book of the Atlantic (2017)   \n",
      "9738   193583               No Game No Life: Zero (2017)   \n",
      "9739   193585                               Flint (2017)   \n",
      "9740   193587        Bungo Stray Dogs: Dead Apple (2018)   \n",
      "9741   193609        Andrew Dice Clay: Dice Rules (1991)   \n",
      "\n",
      "                                           genres  \n",
      "0     Adventure|Animation|Children|Comedy|Fantasy  \n",
      "1                      Adventure|Children|Fantasy  \n",
      "2                                  Comedy|Romance  \n",
      "3                            Comedy|Drama|Romance  \n",
      "4                                          Comedy  \n",
      "...                                           ...  \n",
      "9737              Action|Animation|Comedy|Fantasy  \n",
      "9738                     Animation|Comedy|Fantasy  \n",
      "9739                                        Drama  \n",
      "9740                             Action|Animation  \n",
      "9741                                       Comedy  \n",
      "\n",
      "[9742 rows x 3 columns]\n"
     ]
    }
   ],
   "source": [
    "data2 = pd.read_csv(r'C:\\Users\\Sai Pranav\\ml-latest-small (1)\\ml-latest-small\\movies.csv')\n",
    "print(data2)"
   ]
  },
  {
   "cell_type": "code",
   "execution_count": 12,
   "id": "bed0e3bc",
   "metadata": {},
   "outputs": [
    {
     "name": "stdout",
     "output_type": "stream",
     "text": [
      "      movieId                                      title  \\\n",
      "0           1                           Toy Story (1995)   \n",
      "1           2                             Jumanji (1995)   \n",
      "2           3                    Grumpier Old Men (1995)   \n",
      "3           4                   Waiting to Exhale (1995)   \n",
      "4           5         Father of the Bride Part II (1995)   \n",
      "...       ...                                        ...   \n",
      "9737   193581  Black Butler: Book of the Atlantic (2017)   \n",
      "9738   193583               No Game No Life: Zero (2017)   \n",
      "9739   193585                               Flint (2017)   \n",
      "9740   193587        Bungo Stray Dogs: Dead Apple (2018)   \n",
      "9741   193609        Andrew Dice Clay: Dice Rules (1991)   \n",
      "\n",
      "                                           genres  \\\n",
      "0     Adventure|Animation|Children|Comedy|Fantasy   \n",
      "1                      Adventure|Children|Fantasy   \n",
      "2                                  Comedy|Romance   \n",
      "3                            Comedy|Drama|Romance   \n",
      "4                                          Comedy   \n",
      "...                                           ...   \n",
      "9737              Action|Animation|Comedy|Fantasy   \n",
      "9738                     Animation|Comedy|Fantasy   \n",
      "9739                                        Drama   \n",
      "9740                             Action|Animation   \n",
      "9741                                       Comedy   \n",
      "\n",
      "                                                  tag  \\\n",
      "0                                   pixar, pixar, fun   \n",
      "1     fantasy, magic board game, Robin Williams, game   \n",
      "2                                          moldy, old   \n",
      "3                                                       \n",
      "4                                   pregnancy, remake   \n",
      "...                                               ...   \n",
      "9737                                                    \n",
      "9738                                                    \n",
      "9739                                                    \n",
      "9740                                                    \n",
      "9741                                                    \n",
      "\n",
      "                                          combined_info  \n",
      "0     Adventure|Animation|Children|Comedy|Fantasy, p...  \n",
      "1     Adventure|Children|Fantasy, fantasy, magic boa...  \n",
      "2                            Comedy|Romance, moldy, old  \n",
      "3                                Comedy|Drama|Romance,   \n",
      "4                             Comedy, pregnancy, remake  \n",
      "...                                                 ...  \n",
      "9737                  Action|Animation|Comedy|Fantasy,   \n",
      "9738                         Animation|Comedy|Fantasy,   \n",
      "9739                                            Drama,   \n",
      "9740                                 Action|Animation,   \n",
      "9741                                           Comedy,   \n",
      "\n",
      "[9742 rows x 5 columns]\n"
     ]
    }
   ],
   "source": [
    "\n",
    "merged_data = pd.merge(data2,data_sorted, on='movieId', how='left')\n",
    "\n",
    "# Fill NaN values in the 'tags' column with an empty string\n",
    "merged_data['tag'].fillna('', inplace=True)\n",
    "\n",
    "# Combine 'genres' and 'tags' columns into a new column\n",
    "merged_data['combined_info'] = merged_data['genres'] + ', ' + merged_data['tag']\n",
    "\n",
    "print(merged_data)\n",
    "#combining two data sets \n",
    "\n",
    "\n",
    "\n",
    "\n",
    "\n"
   ]
  },
  {
   "cell_type": "code",
   "execution_count": 13,
   "id": "c6cb9c88",
   "metadata": {},
   "outputs": [
    {
     "data": {
      "text/html": [
       "<div>\n",
       "<style scoped>\n",
       "    .dataframe tbody tr th:only-of-type {\n",
       "        vertical-align: middle;\n",
       "    }\n",
       "\n",
       "    .dataframe tbody tr th {\n",
       "        vertical-align: top;\n",
       "    }\n",
       "\n",
       "    .dataframe thead th {\n",
       "        text-align: right;\n",
       "    }\n",
       "</style>\n",
       "<table border=\"1\" class=\"dataframe\">\n",
       "  <thead>\n",
       "    <tr style=\"text-align: right;\">\n",
       "      <th></th>\n",
       "      <th>movieId</th>\n",
       "      <th>title</th>\n",
       "      <th>combined_info</th>\n",
       "    </tr>\n",
       "  </thead>\n",
       "  <tbody>\n",
       "    <tr>\n",
       "      <th>0</th>\n",
       "      <td>1</td>\n",
       "      <td>Toy Story (1995)</td>\n",
       "      <td>Adventure|Animation|Children|Comedy|Fantasy, p...</td>\n",
       "    </tr>\n",
       "    <tr>\n",
       "      <th>1</th>\n",
       "      <td>2</td>\n",
       "      <td>Jumanji (1995)</td>\n",
       "      <td>Adventure|Children|Fantasy, fantasy, magic boa...</td>\n",
       "    </tr>\n",
       "    <tr>\n",
       "      <th>2</th>\n",
       "      <td>3</td>\n",
       "      <td>Grumpier Old Men (1995)</td>\n",
       "      <td>Comedy|Romance, moldy, old</td>\n",
       "    </tr>\n",
       "    <tr>\n",
       "      <th>3</th>\n",
       "      <td>4</td>\n",
       "      <td>Waiting to Exhale (1995)</td>\n",
       "      <td>Comedy|Drama|Romance,</td>\n",
       "    </tr>\n",
       "    <tr>\n",
       "      <th>4</th>\n",
       "      <td>5</td>\n",
       "      <td>Father of the Bride Part II (1995)</td>\n",
       "      <td>Comedy, pregnancy, remake</td>\n",
       "    </tr>\n",
       "    <tr>\n",
       "      <th>5</th>\n",
       "      <td>6</td>\n",
       "      <td>Heat (1995)</td>\n",
       "      <td>Action|Crime|Thriller,</td>\n",
       "    </tr>\n",
       "    <tr>\n",
       "      <th>6</th>\n",
       "      <td>7</td>\n",
       "      <td>Sabrina (1995)</td>\n",
       "      <td>Comedy|Romance, remake</td>\n",
       "    </tr>\n",
       "    <tr>\n",
       "      <th>7</th>\n",
       "      <td>8</td>\n",
       "      <td>Tom and Huck (1995)</td>\n",
       "      <td>Adventure|Children,</td>\n",
       "    </tr>\n",
       "    <tr>\n",
       "      <th>8</th>\n",
       "      <td>9</td>\n",
       "      <td>Sudden Death (1995)</td>\n",
       "      <td>Action,</td>\n",
       "    </tr>\n",
       "    <tr>\n",
       "      <th>9</th>\n",
       "      <td>10</td>\n",
       "      <td>GoldenEye (1995)</td>\n",
       "      <td>Action|Adventure|Thriller,</td>\n",
       "    </tr>\n",
       "  </tbody>\n",
       "</table>\n",
       "</div>"
      ],
      "text/plain": [
       "   movieId                               title  \\\n",
       "0        1                    Toy Story (1995)   \n",
       "1        2                      Jumanji (1995)   \n",
       "2        3             Grumpier Old Men (1995)   \n",
       "3        4            Waiting to Exhale (1995)   \n",
       "4        5  Father of the Bride Part II (1995)   \n",
       "5        6                         Heat (1995)   \n",
       "6        7                      Sabrina (1995)   \n",
       "7        8                 Tom and Huck (1995)   \n",
       "8        9                 Sudden Death (1995)   \n",
       "9       10                    GoldenEye (1995)   \n",
       "\n",
       "                                       combined_info  \n",
       "0  Adventure|Animation|Children|Comedy|Fantasy, p...  \n",
       "1  Adventure|Children|Fantasy, fantasy, magic boa...  \n",
       "2                         Comedy|Romance, moldy, old  \n",
       "3                             Comedy|Drama|Romance,   \n",
       "4                          Comedy, pregnancy, remake  \n",
       "5                            Action|Crime|Thriller,   \n",
       "6                             Comedy|Romance, remake  \n",
       "7                               Adventure|Children,   \n",
       "8                                           Action,   \n",
       "9                        Action|Adventure|Thriller,   "
      ]
     },
     "execution_count": 13,
     "metadata": {},
     "output_type": "execute_result"
    }
   ],
   "source": [
    "columns_to_drop = ['tag','genres']\n",
    "reqdataset = merged_data.drop(columns=columns_to_drop)\n",
    "\n",
    "\n",
    "reqdataset.head(10)"
   ]
  },
  {
   "cell_type": "code",
   "execution_count": 14,
   "id": "e3e4f55e",
   "metadata": {},
   "outputs": [
    {
     "name": "stdout",
     "output_type": "stream",
     "text": [
      "Number of rows: 9742\n",
      "Number of columns: 3\n"
     ]
    }
   ],
   "source": [
    "rows, columns = reqdataset.shape\n",
    "\n",
    "print(\"Number of rows:\", rows)\n",
    "print(\"Number of columns:\", columns)"
   ]
  },
  {
   "cell_type": "code",
   "execution_count": 15,
   "id": "2bd649f5",
   "metadata": {},
   "outputs": [
    {
     "name": "stderr",
     "output_type": "stream",
     "text": [
      "[nltk_data] Downloading package punkt to C:\\Users\\Sai\n",
      "[nltk_data]     Pranav\\AppData\\Roaming\\nltk_data...\n",
      "[nltk_data]   Package punkt is already up-to-date!\n"
     ]
    },
    {
     "name": "stdout",
     "output_type": "stream",
     "text": [
      "0       [Adventure|Animation|Children|Comedy|Fantasy, ...\n",
      "1       [Adventure|Children|Fantasy, ,, fantasy, ,, ma...\n",
      "2                      [Comedy|Romance, ,, moldy, ,, old]\n",
      "3                               [Comedy|Drama|Romance, ,]\n",
      "4                       [Comedy, ,, pregnancy, ,, remake]\n",
      "                              ...                        \n",
      "9737                 [Action|Animation|Comedy|Fantasy, ,]\n",
      "9738                        [Animation|Comedy|Fantasy, ,]\n",
      "9739                                           [Drama, ,]\n",
      "9740                                [Action|Animation, ,]\n",
      "9741                                          [Comedy, ,]\n",
      "Name: description_tokens, Length: 9742, dtype: object\n"
     ]
    }
   ],
   "source": [
    "import nltk\n",
    "from nltk.tokenize import word_tokenize\n",
    "\n",
    "\n",
    "nltk.download('punkt')\n",
    "\n",
    "\n",
    "reqdataset['description_tokens'] = reqdataset['combined_info'].apply(word_tokenize)\n",
    "\n",
    "print(reqdataset['description_tokens'])\n",
    "\n"
   ]
  },
  {
   "cell_type": "code",
   "execution_count": 16,
   "id": "e3f7117e",
   "metadata": {},
   "outputs": [
    {
     "name": "stdout",
     "output_type": "stream",
     "text": [
      "0       [Adventure|Animation|Children|Comedy|Fantasy, ...\n",
      "1       [Adventure|Children|Fantasy, ,, fantasy, ,, ma...\n",
      "2                      [Comedy|Romance, ,, moldy, ,, old]\n",
      "3                               [Comedy|Drama|Romance, ,]\n",
      "4                       [Comedy, ,, pregnancy, ,, remake]\n",
      "                              ...                        \n",
      "9737                 [Action|Animation|Comedy|Fantasy, ,]\n",
      "9738                        [Animation|Comedy|Fantasy, ,]\n",
      "9739                                           [Drama, ,]\n",
      "9740                                [Action|Animation, ,]\n",
      "9741                                          [Comedy, ,]\n",
      "Name: description_tokens, Length: 9742, dtype: object\n"
     ]
    },
    {
     "name": "stderr",
     "output_type": "stream",
     "text": [
      "[nltk_data] Downloading package stopwords to C:\\Users\\Sai\n",
      "[nltk_data]     Pranav\\AppData\\Roaming\\nltk_data...\n",
      "[nltk_data]   Package stopwords is already up-to-date!\n"
     ]
    }
   ],
   "source": [
    "from nltk.corpus import stopwords\n",
    "\n",
    "\n",
    "nltk.download('stopwords')\n",
    "\n",
    "stop_words = set(stopwords.words('english'))\n",
    "\n",
    "reqdataset['description_tokens'] = reqdataset['description_tokens'].apply(lambda tokens: [word for word in tokens if word.lower() not in stop_words])\n",
    "\n",
    "print(reqdataset['description_tokens'])\n"
   ]
  },
  {
   "cell_type": "code",
   "execution_count": 17,
   "id": "c3f1429f",
   "metadata": {},
   "outputs": [
    {
     "name": "stdout",
     "output_type": "stream",
     "text": [
      "0       [adventure|animation|children|comedy|fantasi, ...\n",
      "1       [adventure|children|fantasi, ,, fantasi, ,, ma...\n",
      "2                          [comedy|rom, ,, moldi, ,, old]\n",
      "3                                   [comedy|drama|rom, ,]\n",
      "4                         [comedi, ,, pregnanc, ,, remak]\n",
      "                              ...                        \n",
      "9737                 [action|animation|comedy|fantasi, ,]\n",
      "9738                        [animation|comedy|fantasi, ,]\n",
      "9739                                           [drama, ,]\n",
      "9740                                     [action|anim, ,]\n",
      "9741                                          [comedi, ,]\n",
      "Name: description_tokens, Length: 9742, dtype: object\n"
     ]
    }
   ],
   "source": [
    "from nltk.stem import PorterStemmer\n",
    "\n",
    "stemmer = PorterStemmer()\n",
    "\n",
    "reqdataset['description_tokens'] = reqdataset['description_tokens'].apply(lambda tokens: [stemmer.stem(word) for word in tokens])\n",
    "\n",
    "print(reqdataset['description_tokens'])\n"
   ]
  },
  {
   "cell_type": "code",
   "execution_count": 18,
   "id": "0cb6035e",
   "metadata": {},
   "outputs": [
    {
     "data": {
      "text/html": [
       "<div>\n",
       "<style scoped>\n",
       "    .dataframe tbody tr th:only-of-type {\n",
       "        vertical-align: middle;\n",
       "    }\n",
       "\n",
       "    .dataframe tbody tr th {\n",
       "        vertical-align: top;\n",
       "    }\n",
       "\n",
       "    .dataframe thead th {\n",
       "        text-align: right;\n",
       "    }\n",
       "</style>\n",
       "<table border=\"1\" class=\"dataframe\">\n",
       "  <thead>\n",
       "    <tr style=\"text-align: right;\">\n",
       "      <th></th>\n",
       "      <th>movieId</th>\n",
       "      <th>title</th>\n",
       "      <th>combined_info</th>\n",
       "      <th>description_tokens</th>\n",
       "    </tr>\n",
       "  </thead>\n",
       "  <tbody>\n",
       "    <tr>\n",
       "      <th>0</th>\n",
       "      <td>1</td>\n",
       "      <td>Toy Story (1995)</td>\n",
       "      <td>Adventure|Animation|Children|Comedy|Fantasy, p...</td>\n",
       "      <td>[adventure|animation|children|comedy|fantasi, ...</td>\n",
       "    </tr>\n",
       "    <tr>\n",
       "      <th>1</th>\n",
       "      <td>2</td>\n",
       "      <td>Jumanji (1995)</td>\n",
       "      <td>Adventure|Children|Fantasy, fantasy, magic boa...</td>\n",
       "      <td>[adventure|children|fantasi, ,, fantasi, ,, ma...</td>\n",
       "    </tr>\n",
       "    <tr>\n",
       "      <th>2</th>\n",
       "      <td>3</td>\n",
       "      <td>Grumpier Old Men (1995)</td>\n",
       "      <td>Comedy|Romance, moldy, old</td>\n",
       "      <td>[comedy|rom, ,, moldi, ,, old]</td>\n",
       "    </tr>\n",
       "    <tr>\n",
       "      <th>3</th>\n",
       "      <td>4</td>\n",
       "      <td>Waiting to Exhale (1995)</td>\n",
       "      <td>Comedy|Drama|Romance,</td>\n",
       "      <td>[comedy|drama|rom, ,]</td>\n",
       "    </tr>\n",
       "    <tr>\n",
       "      <th>4</th>\n",
       "      <td>5</td>\n",
       "      <td>Father of the Bride Part II (1995)</td>\n",
       "      <td>Comedy, pregnancy, remake</td>\n",
       "      <td>[comedi, ,, pregnanc, ,, remak]</td>\n",
       "    </tr>\n",
       "  </tbody>\n",
       "</table>\n",
       "</div>"
      ],
      "text/plain": [
       "   movieId                               title  \\\n",
       "0        1                    Toy Story (1995)   \n",
       "1        2                      Jumanji (1995)   \n",
       "2        3             Grumpier Old Men (1995)   \n",
       "3        4            Waiting to Exhale (1995)   \n",
       "4        5  Father of the Bride Part II (1995)   \n",
       "\n",
       "                                       combined_info  \\\n",
       "0  Adventure|Animation|Children|Comedy|Fantasy, p...   \n",
       "1  Adventure|Children|Fantasy, fantasy, magic boa...   \n",
       "2                         Comedy|Romance, moldy, old   \n",
       "3                             Comedy|Drama|Romance,    \n",
       "4                          Comedy, pregnancy, remake   \n",
       "\n",
       "                                  description_tokens  \n",
       "0  [adventure|animation|children|comedy|fantasi, ...  \n",
       "1  [adventure|children|fantasi, ,, fantasi, ,, ma...  \n",
       "2                     [comedy|rom, ,, moldi, ,, old]  \n",
       "3                              [comedy|drama|rom, ,]  \n",
       "4                    [comedi, ,, pregnanc, ,, remak]  "
      ]
     },
     "execution_count": 18,
     "metadata": {},
     "output_type": "execute_result"
    }
   ],
   "source": [
    "reqdataset.head()"
   ]
  },
  {
   "cell_type": "code",
   "execution_count": 19,
   "id": "8bafcac0",
   "metadata": {},
   "outputs": [
    {
     "name": "stdout",
     "output_type": "stream",
     "text": [
      "  (0, 566)\t0.4000182911447829\n",
      "  (0, 1105)\t0.8327116511698907\n",
      "  (0, 509)\t0.20924323726277627\n",
      "  (0, 304)\t0.11584249746409284\n",
      "  (0, 262)\t0.1784669779985233\n",
      "  (0, 73)\t0.18759542875445678\n",
      "  (0, 36)\t0.14943878034534247\n",
      "  (1, 1594)\t0.30105565761405484\n",
      "  (1, 1221)\t0.33162191414885445\n",
      "  (1, 574)\t0.6632438282977089\n",
      "  (1, 170)\t0.357748594489147\n",
      "  (1, 884)\t0.3054952338085619\n",
      "  (1, 509)\t0.3248649936580993\n",
      "  (1, 262)\t0.138541332169459\n",
      "  (1, 36)\t0.11600716243984485\n",
      "  (2, 1043)\t0.680141718620538\n",
      "  (2, 953)\t0.680141718620538\n",
      "  (2, 1228)\t0.2135063466430038\n",
      "  (2, 304)\t0.17096644444732328\n",
      "  (3, 436)\t0.4271915910068058\n",
      "  (3, 1228)\t0.7057709441523244\n",
      "  (3, 304)\t0.5651501738152531\n",
      "  (4, 1194)\t0.6602762936501189\n",
      "  (4, 1132)\t0.7064989496691921\n",
      "  (4, 303)\t0.25474389131045\n",
      "  :\t:\n",
      "  (9732, 594)\t0.5767817057631328\n",
      "  (9732, 72)\t0.34544918822079923\n",
      "  (9732, 527)\t0.200283045614197\n",
      "  (9732, 1267)\t0.200283045614197\n",
      "  (9732, 22)\t0.16232637657129464\n",
      "  (9732, 303)\t0.18052075396309653\n",
      "  (9732, 304)\t0.14498495645376122\n",
      "  (9732, 73)\t0.23478874907129987\n",
      "  (9733, 436)\t0.4229635973550339\n",
      "  (9733, 73)\t0.9061466742820881\n",
      "  (9734, 436)\t0.6030031210667524\n",
      "  (9734, 304)\t0.7977388269250505\n",
      "  (9735, 72)\t1.0\n",
      "  (9736, 420)\t1.0\n",
      "  (9737, 22)\t0.3924561531115753\n",
      "  (9737, 509)\t0.6331527668202689\n",
      "  (9737, 304)\t0.3505298366830821\n",
      "  (9737, 73)\t0.5676482848979938\n",
      "  (9738, 509)\t0.688381089549664\n",
      "  (9738, 304)\t0.38110567234410014\n",
      "  (9738, 73)\t0.6171628164897563\n",
      "  (9739, 436)\t1.0\n",
      "  (9740, 72)\t0.9050587386571661\n",
      "  (9740, 22)\t0.42528658523435625\n",
      "  (9741, 303)\t1.0\n"
     ]
    }
   ],
   "source": [
    "from sklearn.feature_extraction.text import TfidfVectorizer\n",
    "\n",
    "\n",
    "preprocessed_text = reqdataset['description_tokens'].apply(lambda tokens: ' '.join(tokens))\n",
    "\n",
    "# Initialize the TfidfVectorizer\n",
    "tfidf_vectorizer = TfidfVectorizer()\n",
    "\n",
    "# Fit and transform the preprocessed text data\n",
    "tfidf_matrix = tfidf_vectorizer.fit_transform(preprocessed_text)\n",
    "\n",
    "# 'tfidf_matrix' is a sparse matrix containing TF-IDF vector representations of the text data\n",
    "print(tfidf_matrix)\n"
   ]
  },
  {
   "cell_type": "code",
   "execution_count": 20,
   "id": "ae5a30f9",
   "metadata": {},
   "outputs": [
    {
     "name": "stdout",
     "output_type": "stream",
     "text": [
      "Training data shape: (7793, 1619)\n",
      "Testing data shape: (1949, 1619)\n"
     ]
    }
   ],
   "source": [
    "from sklearn.model_selection import train_test_split\n",
    "\n",
    "# Assuming 'tfidf_matrix' is your TF-IDF matrix and 'reqdataset' is your DataFrame\n",
    "X_train, X_test, y_train, y_test = train_test_split(tfidf_matrix, reqdataset['movieId'], test_size=0.2, random_state=42)\n",
    "\n",
    "print(\"Training data shape:\", X_train.shape)\n",
    "print(\"Testing data shape:\", X_test.shape)\n"
   ]
  },
  {
   "cell_type": "code",
   "execution_count": 21,
   "id": "066db596",
   "metadata": {},
   "outputs": [
    {
     "name": "stdout",
     "output_type": "stream",
     "text": [
      "Recommended movies:\n",
      "8640    119218\n",
      "5510     26464\n",
      "3364      4572\n",
      "3925      5521\n",
      "6353     49314\n",
      "5991     36931\n",
      "9330    160527\n",
      "4406      6484\n",
      "5877     33132\n",
      "6678     57843\n",
      "Name: movieId, dtype: int64\n"
     ]
    }
   ],
   "source": [
    "from sklearn.neighbors import NearestNeighbors\n",
    "\n",
    "# Assuming X_train is your training feature matrix and y_train are your movie IDs\n",
    "n_neighbors = 10  # Choose the number of neighbors\n",
    "knn_model = NearestNeighbors(n_neighbors=n_neighbors, metric='cosine')\n",
    "knn_model.fit(X_train)\n",
    "test_movie_index = 23\n",
    "\n",
    "# Assuming test_movie_index is the index of a movie you want to make recommendations for\n",
    "# Find the indices of nearest neighbors\n",
    "distances, indices = knn_model.kneighbors(X_test[test_movie_index], n_neighbors=n_neighbors+1)\n",
    "\n",
    "# Retrieve movie IDs of similar movies (excluding the input movie itself)\n",
    "similar_movie_ids = y_train.iloc[indices[0][1:]]\n",
    "\n",
    "print(\"Recommended movies:\")\n",
    "print(similar_movie_ids)\n"
   ]
  },
  {
   "cell_type": "code",
   "execution_count": 22,
   "id": "834e3610",
   "metadata": {},
   "outputs": [
    {
     "name": "stdout",
     "output_type": "stream",
     "text": [
      "Recommended movies:\n",
      "      movieId                                          title\n",
      "3364     4572                              Black Rain (1989)\n",
      "3925     5521                          Principal, The (1987)\n",
      "4406     6484                      Hollywood Homicide (2003)\n",
      "5510    26464                            Blue Thunder (1983)\n",
      "5877    33132                        State Property 2 (2005)\n",
      "5991    36931  New Police Story (Xin jing cha gu shi) (2004)\n",
      "6353    49314                             Harsh Times (2006)\n",
      "6678    57843                 Rise of the Footsoldier (2007)\n",
      "8640   119218             The Punisher: Dirty Laundry (2012)\n",
      "9330   160527               Sympathy for the Underdog (1971)\n"
     ]
    }
   ],
   "source": [
    "recommended_movies = reqdataset[reqdataset['movieId'].isin(similar_movie_ids)]\n",
    "\n",
    "print(\"Recommended movies:\")\n",
    "print(recommended_movies[['movieId', 'title']])"
   ]
  },
  {
   "cell_type": "code",
   "execution_count": 23,
   "id": "af0d88e9",
   "metadata": {},
   "outputs": [
    {
     "name": "stderr",
     "output_type": "stream",
     "text": [
      "[nltk_data] Downloading package punkt to C:\\Users\\Sai\n",
      "[nltk_data]     Pranav\\AppData\\Roaming\\nltk_data...\n",
      "[nltk_data]   Package punkt is already up-to-date!\n",
      "[nltk_data] Downloading package stopwords to C:\\Users\\Sai\n",
      "[nltk_data]     Pranav\\AppData\\Roaming\\nltk_data...\n",
      "[nltk_data]   Package stopwords is already up-to-date!\n"
     ]
    }
   ],
   "source": [
    "import nltk\n",
    "from nltk.corpus import stopwords\n",
    "from nltk.tokenize import word_tokenize\n",
    "\n",
    "nltk.download('punkt')\n",
    "nltk.download('stopwords')\n",
    "\n",
    "def preprocess_text(text):\n",
    "    # Convert to lowercase\n",
    "    text = text.lower()\n",
    "    \n",
    "    # Tokenization\n",
    "    tokens = word_tokenize(text)\n",
    "    \n",
    "    # Remove stopwords\n",
    "    stop_words = set(stopwords.words('english'))\n",
    "    filtered_tokens = [word for word in tokens if word not in stop_words]\n",
    "    \n",
    "    return filtered_tokens\n",
    "\n"
   ]
  },
  {
   "cell_type": "code",
   "execution_count": 24,
   "id": "ca723dca",
   "metadata": {},
   "outputs": [
    {
     "name": "stdout",
     "output_type": "stream",
     "text": [
      "Enter the movie description: comedy\n",
      "Recommended movies:\n",
      "750              Pompatus of Love, The (1996)\n",
      "753                  Grace of My Heart (1996)\n",
      "7656    Paper Birds (Pájaros de papel) (2010)\n",
      "8317                  Saving Mr. Banks (2013)\n",
      "9492                          Table 19 (2017)\n",
      "Name: title, dtype: object\n"
     ]
    }
   ],
   "source": [
    "from sklearn.neighbors import NearestNeighbors\n",
    "from sklearn.feature_extraction.text import TfidfVectorizer\n",
    "\n",
    "\n",
    "\n",
    "# Initialize the KNN model\n",
    "n_neighbors = 5\n",
    "knn_model = NearestNeighbors(n_neighbors=n_neighbors, metric='cosine')\n",
    "knn_model.fit(tfidf_matrix)\n",
    "\n",
    "# Get input movie description from the user\n",
    "input_description = input(\"Enter the movie description: \")\n",
    "\n",
    "# Preprocess and vectorize the input description\n",
    "input_description_tokens = preprocess_text(input_description)  \n",
    "input_description_vector = tfidf_vectorizer.transform([\" \".join(input_description_tokens)])\n",
    "\n",
    "# Find nearest neighbors\n",
    "distances, indices = knn_model.kneighbors(input_description_vector, n_neighbors=n_neighbors)\n",
    "\n",
    "# Retrieve similar movie IDs and titles\n",
    "similar_movie_ids = reqdataset.iloc[indices[0], :]['movieId']\n",
    "similar_movie_titles = reqdataset[reqdataset['movieId'].isin(similar_movie_ids)]['title']\n",
    "\n",
    "print(\"Recommended movies:\")\n",
    "print(similar_movie_titles)\n"
   ]
  },
  {
   "cell_type": "code",
   "execution_count": 25,
   "id": "2b49e5b6",
   "metadata": {},
   "outputs": [
    {
     "name": "stdout",
     "output_type": "stream",
     "text": [
      "Training data shape: (7793, 1619)\n",
      "Testing data shape: (1949, 1619)\n"
     ]
    }
   ],
   "source": [
    "from sklearn.model_selection import train_test_split\n",
    "\n",
    "\n",
    "X_train, X_test, y_train, y_test = train_test_split(tfidf_matrix, reqdataset['movieId'], test_size=0.2, random_state=42)\n",
    "\n",
    "print(\"Training data shape:\", X_train.shape)\n",
    "print(\"Testing data shape:\", X_test.shape)\n"
   ]
  },
  {
   "cell_type": "code",
   "execution_count": 26,
   "id": "1f734a73",
   "metadata": {},
   "outputs": [],
   "source": [
    "import numpy as np\n",
    "from collections import Counter\n",
    "\n",
    "class KNN:\n",
    "    def __init__(self, k=5):\n",
    "        self.k = k\n",
    "\n",
    "    def fit(self, X_train, y_train):\n",
    "        self.X_train = X_train\n",
    "        self.y_train = y_train\n",
    "\n",
    "    def euclidean_distance(self, x1, x2):\n",
    "        return np.sqrt(np.sum((x1 - x2) ** 2))\n",
    "\n",
    "    def predict(self, X_test):\n",
    "        y_pred = [self._predict(x) for x in X_test]\n",
    "        return np.array(y_pred)\n",
    "\n",
    "    def _predict(self, x):\n",
    "        x = x.toarray()  # Convert to dense array\n",
    "        # Compute distances between x and all examples in the training set\n",
    "        distances = [self.euclidean_distance(x, x_train.toarray()) for x_train in self.X_train]\n",
    "        # Get indices of k-nearest samples\n",
    "        k_indices = np.argsort(distances)[:self.k]\n",
    "        # Get labels of k-nearest samples\n",
    "        k_nearest_labels = [self.y_train[i] for i in k_indices]\n",
    "        # Return the most common class label among the k neighbors\n",
    "        most_common = Counter(k_nearest_labels).most_common(1)\n",
    "        return most_common[0][0]\n",
    "# Reset index of y_train to match row indices of X_train\n",
    "y_train.reset_index(drop=True, inplace=True)\n",
    "\n",
    "# Check matrix shapes\n",
    "assert X_train.shape[0] == y_train.shape[0], \"Mismatch between X_train and y_train shapes\"\n",
    "assert X_test.shape[0] == y_test.shape[0], \"Mismatch between X_test and y_test shapes\"\n",
    "\n",
    "# Verify indices in y_train\n",
    "assert y_train.index.min() == 0 and y_train.index.max() == (X_train.shape[0] - 1), \"Indices in y_train don't match X_train\"\n"
   ]
  },
  {
   "cell_type": "code",
   "execution_count": 28,
   "id": "17c84883",
   "metadata": {},
   "outputs": [],
   "source": [
    "# Continue with the KNN model\n",
    "knn_model = KNN(k=3)\n",
    "knn_model.fit(X_train, y_train)\n"
   ]
  },
  {
   "cell_type": "code",
   "execution_count": 29,
   "id": "0067b62a",
   "metadata": {},
   "outputs": [
    {
     "name": "stdout",
     "output_type": "stream",
     "text": [
      "Predictions: [ 2512   737  3710 ... 53466  2512 53355]\n"
     ]
    }
   ],
   "source": [
    "y_pred = knn_model.predict(X_test)\n",
    "print(\"Predictions:\", y_pred)"
   ]
  },
  {
   "cell_type": "code",
   "execution_count": 31,
   "id": "6a97682d",
   "metadata": {},
   "outputs": [
    {
     "name": "stdout",
     "output_type": "stream",
     "text": [
      "Accuracy: 0.0\n"
     ]
    }
   ],
   "source": [
    "accuracy = np.mean(y_pred == y_test)\n",
    "print(\"Accuracy:\", accuracy)\n"
   ]
  },
  {
   "cell_type": "code",
   "execution_count": 36,
   "id": "493b73e0",
   "metadata": {},
   "outputs": [
    {
     "name": "stdout",
     "output_type": "stream",
     "text": [
      "Recommended Movie Title: Best of the Best (1989)\n"
     ]
    }
   ],
   "source": [
    "# Assuming 'knn_model' is the trained KNN model\n",
    "# Assuming 'tfidf_vectorizer' is the TF-IDF vectorizer you used for training\n",
    "\n",
    "# Input a movie description\n",
    "input_description = \"action\"\n",
    "\n",
    "# Apply NLP preprocessing to the input description\n",
    "input_tokens = word_tokenize(input_description)\n",
    "input_tfidf = tfidf_vectorizer.transform([input_description])\n",
    "\n",
    "# Use the trained KNN model to predict a movie ID\n",
    "predicted_movie_id = knn_model.predict(input_tfidf)[0]\n",
    "\n",
    "# the movie title from the original dataset based on the predicted movie ID\n",
    "predicted_movie_title = reqdataset.loc[reqdataset['movieId'] == predicted_movie_id, 'title'].values[0]\n",
    "\n",
    "print(\"Recommended Movie Title:\", predicted_movie_title)\n"
   ]
  }
 ],
 "metadata": {
  "kernelspec": {
   "display_name": "Python 3 (ipykernel)",
   "language": "python",
   "name": "python3"
  },
  "language_info": {
   "codemirror_mode": {
    "name": "ipython",
    "version": 3
   },
   "file_extension": ".py",
   "mimetype": "text/x-python",
   "name": "python",
   "nbconvert_exporter": "python",
   "pygments_lexer": "ipython3",
   "version": "3.11.3"
  }
 },
 "nbformat": 4,
 "nbformat_minor": 5
}
